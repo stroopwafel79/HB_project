{
 "cells": [
  {
   "cell_type": "code",
   "execution_count": 30,
   "metadata": {},
   "outputs": [
    {
     "name": "stdout",
     "output_type": "stream",
     "text": [
      "VANDALISM,10/10/2018 08:00:00 PM,18-914348,VANDALISM,08X,2400 BROADWAY,Oakland,CA,\"2400 BROADWAY\n",
      "\n",
      "Oakland, CA\n",
      "\n",
      "(37.813391, -122.265467)\"\n",
      "\n"
     ]
    }
   ],
   "source": [
    "from itertools import islice\n",
    "with open(\"CrimeWatch_TEST.csv\") as f:\n",
    "    next(f)  # skip header row\n",
    "    lines_gen = islice(f, 3)\n",
    "    for line in lines_gen:\n",
    "        print(line)\n",
    "    \n",
    "#     for line in f:\n",
    "# #         crime = line.split(')\"\\n')\n",
    "#         print(line)\n",
    "    \n",
    "\n",
    "#     lines_gen = islice(infile, N)"
   ]
  },
  {
   "cell_type": "code",
   "execution_count": 31,
   "metadata": {},
   "outputs": [
    {
     "name": "stdout",
     "output_type": "stream",
     "text": [
      "['VANDALISM', '10/10/2018 08:00:00 PM', '18-914348', 'VANDALISM', '08X', '2400 BROADWAY', 'Oakland', 'CA', '\"2400 BROADWAY\\n']\n",
      "['Oakland', ' CA\\n']\n",
      "['(37.813391', ' -122.265467)\"\\n']\n",
      "['ASSAULT', '09/06/2018 06:50:00 PM', '18-045249', 'BATTERY', '01X', '300 BROADWAY', 'Oakland', 'CA', '\"300 BROADWAY\\n']\n",
      "['Oakland', ' CA\\n']\n",
      "['(37.796897', ' -122.275771)\"\\n']\n",
      "['THEFT/LARCENY', '09/02/2018 12:30:00 AM', '18-912257', 'BURGLARY-AUTO', '35Y', '00 MAGGIORA DR', 'Oakland', 'CA', '\"00 MAGGIORA DR\\n']\n",
      "['Oakland', ' CA\"\\n']\n",
      "['BURGLARY', '07/25/2018 01:00:00 PM', '18-037464', 'BURGLARY-FORCIBLE ENTRY', '34X', '8400 BANCROFT AV', 'Oakland', 'CA', '\"8400 BANCROFT AV\\n']\n",
      "['Oakland', ' CA\\n']\n",
      "['(37.758211', ' -122.168976)\"']\n"
     ]
    }
   ],
   "source": [
    "with open(\"CrimeWatch_TEST.csv\") as f:\n",
    "    next(f)  # skip header row\n",
    "    lines_gen = islice(f, 3) # result is an\n",
    "    for lines_gen in f:\n",
    "        crime = lines_gen.split(\",\")\n",
    "        print(crime)"
   ]
  },
  {
   "cell_type": "code",
   "execution_count": 32,
   "metadata": {},
   "outputs": [
    {
     "name": "stdout",
     "output_type": "stream",
     "text": [
      "VANDALISM,10/10/2018 08:00:00 PM,18-914348,VANDALISM,08X,2400 BROADWAY,Oakland,CA,\"2400 BROADWAY\n",
      "\n",
      "Oakland, CA\n",
      "\n",
      "(37.813391, -122.265467)\"\n",
      "\n",
      "ASSAULT,09/06/2018 06:50:00 PM,18-045249,BATTERY,01X,300 BROADWAY,Oakland,CA,\"300 BROADWAY\n",
      "\n",
      "Oakland, CA\n",
      "\n",
      "(37.796897, -122.275771)\"\n",
      "\n",
      "THEFT/LARCENY,09/02/2018 12:30:00 AM,18-912257,BURGLARY-AUTO,35Y,00 MAGGIORA DR,Oakland,CA,\"00 MAGGIORA DR\n",
      "\n",
      "Oakland, CA\"\n",
      "\n",
      "BURGLARY,07/25/2018 01:00:00 PM,18-037464,BURGLARY-FORCIBLE ENTRY,34X,8400 BANCROFT AV,Oakland,CA,\"8400 BANCROFT AV\n",
      "\n",
      "Oakland, CA\n",
      "\n",
      "(37.758211, -122.168976)\"\n"
     ]
    }
   ],
   "source": [
    "from itertools import islice\n",
    "with open(\"CrimeWatch_TEST.csv\") as f:\n",
    "    next(f)  # skip header row\n",
    "    lines_gen = islice(f, 3) # result is an\n",
    "    for lines_gen in f:\n",
    "        print(lines_gen)"
   ]
  },
  {
   "cell_type": "code",
   "execution_count": 145,
   "metadata": {},
   "outputs": [
    {
     "name": "stdout",
     "output_type": "stream",
     "text": [
      "<class 'str'>\n",
      "<class 'str'>\n",
      "no\n",
      "<class 'str'>\n",
      "<class 'str'>\n",
      "<class 'str'>\n",
      "no\n",
      "<class 'str'>\n",
      "<class 'str'>\n",
      "<class 'str'>\n",
      "<class 'str'>\n",
      "<class 'str'>\n",
      "<class 'str'>\n",
      "<class 'str'>\n",
      "<class 'str'>\n",
      "<class 'str'>\n",
      "<class 'str'>\n",
      "<class 'str'>\n",
      "<class 'str'>\n",
      "no\n",
      "<class 'str'>\n"
     ]
    }
   ],
   "source": [
    "import csv\n",
    "from datetime import datetime\n",
    "import re\n",
    "with open(\"CrimeWatch_TEST(20_crimes_tab).tsv\") as f:\n",
    "    next(f)  # ignore header row\n",
    "    crimereader = csv.reader(f, delimiter=\"\\t\") # class csv reader ojbect\n",
    "    pattern = re.compile(\"(-?\\d+.\\d+, -?\\d+.\\d+)\")   ## Need to come up with new pattern for searching\n",
    "    for row in crimereader:\n",
    "        crime_lst = '\\t '.join(row).split('\\t ')\n",
    "        if pattern.search(crime_lst[-1]):\n",
    "            print(type(pattern.search(crime_lst[-1]).group(0)))\n",
    "#             print(\"yes\")\n",
    "        else:\n",
    "            print(\"no\")\n",
    "            \n",
    "#         latitude = pattern.search(crime_lst[9]).group(0)\n",
    "#         longitude = pattern.search(crime_lst[10]).group(0)\n",
    "#         print(latitude)\n",
    "#         print(longitude)\n",
    "        \n",
    "#         latitude = crime_lst[9][4:]\n",
    "#         print(latitude)\n",
    "# #         date_time = datetime.strptime(crime_lst[1], \"%m/%d/%Y %I:%M:%S %p\")\n",
    "# #         crime_type = crime_lst[0].title()\n",
    "# #         description = crime_lst[3].title()\n",
    "        \n",
    "# #         print(crime_type)\n",
    "# #         print(description)\n",
    "# #         print(date_time)\n",
    "#         print(crime_lst)\n",
    "#         print(len(crime_lst))"
   ]
  },
  {
   "cell_type": "code",
   "execution_count": 103,
   "metadata": {},
   "outputs": [],
   "source": [
    "import pandas as pd"
   ]
  },
  {
   "cell_type": "code",
   "execution_count": 146,
   "metadata": {},
   "outputs": [
    {
     "data": {
      "text/html": [
       "<div>\n",
       "<style scoped>\n",
       "    .dataframe tbody tr th:only-of-type {\n",
       "        vertical-align: middle;\n",
       "    }\n",
       "\n",
       "    .dataframe tbody tr th {\n",
       "        vertical-align: top;\n",
       "    }\n",
       "\n",
       "    .dataframe thead th {\n",
       "        text-align: right;\n",
       "    }\n",
       "</style>\n",
       "<table border=\"1\" class=\"dataframe\">\n",
       "  <thead>\n",
       "    <tr style=\"text-align: right;\">\n",
       "      <th></th>\n",
       "      <th>CRIMETYPE</th>\n",
       "      <th>DATETIME</th>\n",
       "      <th>CASENUMBER</th>\n",
       "      <th>DESCRIPTION</th>\n",
       "      <th>POLICEBEAT</th>\n",
       "      <th>ADDRESS</th>\n",
       "      <th>CITY</th>\n",
       "      <th>STATE</th>\n",
       "      <th>Location</th>\n",
       "    </tr>\n",
       "  </thead>\n",
       "  <tbody>\n",
       "    <tr>\n",
       "      <th>0</th>\n",
       "      <td>VANDALISM</td>\n",
       "      <td>10/10/2018 08:00:00 PM</td>\n",
       "      <td>18-914348</td>\n",
       "      <td>VANDALISM</td>\n",
       "      <td>08X</td>\n",
       "      <td>2400 BROADWAY</td>\n",
       "      <td>Oakland</td>\n",
       "      <td>CA</td>\n",
       "      <td>2400 BROADWAY\\nOakland, CA\\n(37.813391, -122.2...</td>\n",
       "    </tr>\n",
       "    <tr>\n",
       "      <th>1</th>\n",
       "      <td>THEFT/LARCENY</td>\n",
       "      <td>09/04/2018 08:00:00 AM</td>\n",
       "      <td>18-912333</td>\n",
       "      <td>BURGLARY-AUTO</td>\n",
       "      <td>99X</td>\n",
       "      <td>1400 PULLMAN</td>\n",
       "      <td>Oakland</td>\n",
       "      <td>CA</td>\n",
       "      <td>1400 PULLMAN\\nOakland, CA</td>\n",
       "    </tr>\n",
       "    <tr>\n",
       "      <th>2</th>\n",
       "      <td>ROBBERY</td>\n",
       "      <td>08/27/2018 11:40:00 PM</td>\n",
       "      <td>18-043293</td>\n",
       "      <td>ROBBERY - STRONG ARM (HANDS, FISTS, FEET, ETC.)</td>\n",
       "      <td>02Y</td>\n",
       "      <td>800 WILLOW ST</td>\n",
       "      <td>Oakland</td>\n",
       "      <td>CA</td>\n",
       "      <td>800 WILLOW ST\\nOakland, CA\\n(37.80782, -122.30...</td>\n",
       "    </tr>\n",
       "    <tr>\n",
       "      <th>3</th>\n",
       "      <td>MOTOR VEHICLE THEFT</td>\n",
       "      <td>08/06/2018 09:07:00 AM</td>\n",
       "      <td>18-039167</td>\n",
       "      <td>VEHICLE THEFT - AUTO</td>\n",
       "      <td>06X</td>\n",
       "      <td>3500 MARTIN LUTHER KING JR W</td>\n",
       "      <td>Oakland</td>\n",
       "      <td>CA</td>\n",
       "      <td>3500 MARTIN LUTHER KING JR W\\nOakland, CA</td>\n",
       "    </tr>\n",
       "  </tbody>\n",
       "</table>\n",
       "</div>"
      ],
      "text/plain": [
       "             CRIMETYPE                DATETIME CASENUMBER  \\\n",
       "0            VANDALISM  10/10/2018 08:00:00 PM  18-914348   \n",
       "1        THEFT/LARCENY  09/04/2018 08:00:00 AM  18-912333   \n",
       "2              ROBBERY  08/27/2018 11:40:00 PM  18-043293   \n",
       "3  MOTOR VEHICLE THEFT  08/06/2018 09:07:00 AM  18-039167   \n",
       "\n",
       "                                       DESCRIPTION POLICEBEAT  \\\n",
       "0                                        VANDALISM        08X   \n",
       "1                                    BURGLARY-AUTO        99X   \n",
       "2  ROBBERY - STRONG ARM (HANDS, FISTS, FEET, ETC.)        02Y   \n",
       "3                             VEHICLE THEFT - AUTO        06X   \n",
       "\n",
       "                        ADDRESS     CITY STATE  \\\n",
       "0                 2400 BROADWAY  Oakland    CA   \n",
       "1                  1400 PULLMAN  Oakland    CA   \n",
       "2                 800 WILLOW ST  Oakland    CA   \n",
       "3  3500 MARTIN LUTHER KING JR W  Oakland    CA   \n",
       "\n",
       "                                            Location  \n",
       "0  2400 BROADWAY\\nOakland, CA\\n(37.813391, -122.2...  \n",
       "1                          1400 PULLMAN\\nOakland, CA  \n",
       "2  800 WILLOW ST\\nOakland, CA\\n(37.80782, -122.30...  \n",
       "3          3500 MARTIN LUTHER KING JR W\\nOakland, CA  "
      ]
     },
     "execution_count": 146,
     "metadata": {},
     "output_type": "execute_result"
    }
   ],
   "source": [
    "crimes = pd.read_table(\"CrimeWatch_TEST(4_crimes_tab).tsv\")\n",
    "crimes\n",
    "\n",
    "# for row in crimes[\"DATETIME\"].iterrows():\n",
    "# #     date_time = datetime.strptime(row, \"%m/%d/%Y %I:%M:%S %p\")\n",
    "#     print(row)\n",
    "# #     print(date_time)\n",
    "  "
   ]
  },
  {
   "cell_type": "code",
   "execution_count": null,
   "metadata": {},
   "outputs": [],
   "source": []
  }
 ],
 "metadata": {
  "kernelspec": {
   "display_name": "Python 3",
   "language": "python",
   "name": "python3"
  },
  "language_info": {
   "codemirror_mode": {
    "name": "ipython",
    "version": 3
   },
   "file_extension": ".py",
   "mimetype": "text/x-python",
   "name": "python",
   "nbconvert_exporter": "python",
   "pygments_lexer": "ipython3",
   "version": "3.6.5"
  }
 },
 "nbformat": 4,
 "nbformat_minor": 2
}
